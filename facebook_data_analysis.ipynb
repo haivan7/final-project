# Import các thư viện cần thiết
import numpy as np
import pandas as pd
import matplotlib.pyplot as plt
import seaborn as sns
from wordcloud import WordCloud, STOPWORDS
from collections import Counter

# Đọc dữ liệu từ tệp CSV
raw_df = pd.read_csv('Data/thehackernews2_preprocessed.csv')

# Hiển thị thông tin về dữ liệu
print(raw_df.info())

# Lấy thông tin về các phản ứng (reactions)
raw_df['reactions'] = raw_df['reactions'].apply(eval)
raw_df['total_interactions'] = raw_df.apply(lambda row: sum(row['reactions'].values()) + row['shares'] + row['comments'], axis=1)

# Phân tích các phản ứng
sns.set_theme(style="whitegrid")
sns.set(rc={'figure.figsize':(15,5)})
sns.set(font_scale=1.5)

fig, ax = plt.subplots()
ax = sns.barplot(x=list(raw_df['reactions'].iloc[0].keys()), y=raw_df['reactions'].apply(lambda x: sum(x.values())).mean())
ax.set_title("Phản ứng trung bình đối với các bài đăng trên Facebook")
ax.set_ylabel("Số lượng phản ứng")
ax.set_xlabel("Loại phản ứng")
plt.xticks(rotation=-45)
plt.show()

# Đọc tất cả các bài đăng
text = ' '.join(raw_df['post_text'])

# Tạo WordCloud
wordcloud = WordCloud(stopwords=STOPWORDS,
                      background_color='white', 
                      max_words=300,
                      width=2000, height=1200
                     ).generate(text)
plt.figure(figsize=(40,20))
plt.clf()
plt.imshow(wordcloud)
plt.axis('off')
plt.show()

# Tìm bài viết có lượt tương tác lớn nhất
max_interaction_post = raw_df.loc[raw_df['total_interactions'].idxmax()]
print("Bài viết có lượt tương tác lớn nhất:\n", max_interaction_post)

# Tìm các mốc thời gian trong ngày mà Fanpage thường xuyên đăng bài viết
raw_df['time'] = pd.to_datetime(raw_df['time'])
raw_df['hour'] = raw_df['time'].dt.hour
hourly_posts = raw_df['hour'].value_counts().sort_index()
print("Các mốc thời gian trong ngày mà Fanpage thường xuyên đăng bài viết:\n", hourly_posts)

# Xem số lượt tương tác trong các bài đăng thay đổi như thế nào
interaction_trend = raw_df['total_interactions'].rolling(window=7).mean()
interaction_trend.plot()
plt.title("Số lượt tương tác trong các bài đăng thay đổi như thế nào")
plt.xlabel("Thời gian")
plt.ylabel("Số lượng tương tác")
plt.show()

# Tìm các từ khóa xuất hiện nhiều nhất trong các bài đăng
word_counts = Counter(' '.join(raw_df['post_text']).split())
most_common_words = word_counts.most_common(10)
print("Các từ khóa xuất hiện nhiều nhất trong các bài đăng:\n", most_common_words)

# Tạo một cột mới 'post_length' là độ dài của 'post_text'
raw_df['post_length'] = raw_df['post_text'].apply(len)

# Tìm sự tương quan giữa số lượng reactions với các trường khác như số lượng bình luận, độ dài bài viết
correlation_matrix = raw_df[['total_interactions', 'comments', 'post_length']].corr()
sns.heatmap(correlation_matrix, annot=True)
plt.title("Sự tương quan giữa số lượng reactions với các trường khác")
plt.show()

